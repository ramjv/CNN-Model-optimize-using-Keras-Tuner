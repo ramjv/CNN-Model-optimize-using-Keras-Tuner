{
  "nbformat": 4,
  "nbformat_minor": 0,
  "metadata": {
    "colab": {
      "name": "Untitled",
      "provenance": [],
      "collapsed_sections": [],
      "authorship_tag": "ABX9TyPQ+je0eu8gtfh5CMvPbqlo",
      "include_colab_link": true
    },
    "kernelspec": {
      "name": "python3",
      "display_name": "Python 3"
    },
    "accelerator": "GPU"
  },
  "cells": [
    {
      "cell_type": "markdown",
      "metadata": {
        "id": "view-in-github",
        "colab_type": "text"
      },
      "source": [
        "<a href=\"https://colab.research.google.com/github/ramjv/CNN-Model-optimize-using-Keras-Tuner/blob/master/fmnist.ipynb\" target=\"_parent\"><img src=\"https://colab.research.google.com/assets/colab-badge.svg\" alt=\"Open In Colab\"/></a>"
      ]
    },
    {
      "cell_type": "code",
      "metadata": {
        "id": "8y_kllVeFlIu",
        "colab_type": "code",
        "colab": {
          "base_uri": "https://localhost:8080/",
          "height": 269
        },
        "outputId": "504fb671-98d7-4255-ee97-715c871cd80e"
      },
      "source": [
        "pip install -U keras-tuner"
      ],
      "execution_count": 85,
      "outputs": [
        {
          "output_type": "stream",
          "text": [
            "Requirement already up-to-date: keras-tuner in /usr/local/lib/python3.6/dist-packages (1.0.1)\n",
            "Requirement already satisfied, skipping upgrade: future in /usr/local/lib/python3.6/dist-packages (from keras-tuner) (0.16.0)\n",
            "Requirement already satisfied, skipping upgrade: scipy in /usr/local/lib/python3.6/dist-packages (from keras-tuner) (1.4.1)\n",
            "Requirement already satisfied, skipping upgrade: scikit-learn in /usr/local/lib/python3.6/dist-packages (from keras-tuner) (0.22.2.post1)\n",
            "Requirement already satisfied, skipping upgrade: terminaltables in /usr/local/lib/python3.6/dist-packages (from keras-tuner) (3.1.0)\n",
            "Requirement already satisfied, skipping upgrade: tqdm in /usr/local/lib/python3.6/dist-packages (from keras-tuner) (4.38.0)\n",
            "Requirement already satisfied, skipping upgrade: colorama in /usr/local/lib/python3.6/dist-packages (from keras-tuner) (0.4.3)\n",
            "Requirement already satisfied, skipping upgrade: numpy in /usr/local/lib/python3.6/dist-packages (from keras-tuner) (1.18.2)\n",
            "Requirement already satisfied, skipping upgrade: requests in /usr/local/lib/python3.6/dist-packages (from keras-tuner) (2.21.0)\n",
            "Requirement already satisfied, skipping upgrade: tabulate in /usr/local/lib/python3.6/dist-packages (from keras-tuner) (0.8.7)\n",
            "Requirement already satisfied, skipping upgrade: joblib>=0.11 in /usr/local/lib/python3.6/dist-packages (from scikit-learn->keras-tuner) (0.14.1)\n",
            "Requirement already satisfied, skipping upgrade: chardet<3.1.0,>=3.0.2 in /usr/local/lib/python3.6/dist-packages (from requests->keras-tuner) (3.0.4)\n",
            "Requirement already satisfied, skipping upgrade: urllib3<1.25,>=1.21.1 in /usr/local/lib/python3.6/dist-packages (from requests->keras-tuner) (1.24.3)\n",
            "Requirement already satisfied, skipping upgrade: idna<2.9,>=2.5 in /usr/local/lib/python3.6/dist-packages (from requests->keras-tuner) (2.8)\n",
            "Requirement already satisfied, skipping upgrade: certifi>=2017.4.17 in /usr/local/lib/python3.6/dist-packages (from requests->keras-tuner) (2019.11.28)\n"
          ],
          "name": "stdout"
        }
      ]
    },
    {
      "cell_type": "code",
      "metadata": {
        "id": "BZJJfTGB6_Du",
        "colab_type": "code",
        "colab": {}
      },
      "source": [
        "import numpy as np\n",
        "import tensorflow as tf\n",
        "from tensorflow import keras\n",
        "from tensorflow.keras.datasets import fashion_mnist\n",
        "from tensorflow.keras.models import Sequential\n",
        "from tensorflow.keras.layers import Dense,Dropout,Conv2D,Flatten,MaxPooling2D\n",
        "from tensorflow.keras.utils import to_categorical\n",
        "from kerastuner.tuners import RandomSearch"
      ],
      "execution_count": 0,
      "outputs": []
    },
    {
      "cell_type": "code",
      "metadata": {
        "id": "csL0WvtkNbxN",
        "colab_type": "code",
        "outputId": "fe5348b0-0cb4-4404-f41d-e70b0a74dc76",
        "colab": {
          "base_uri": "https://localhost:8080/",
          "height": 50
        }
      },
      "source": [
        "print(keras.__version__)\n",
        "print(tf.__version__)"
      ],
      "execution_count": 87,
      "outputs": [
        {
          "output_type": "stream",
          "text": [
            "2.3.0-tf\n",
            "2.2.0-rc2\n"
          ],
          "name": "stdout"
        }
      ]
    },
    {
      "cell_type": "markdown",
      "metadata": {
        "id": "0_1-9vASBlY1",
        "colab_type": "text"
      },
      "source": [
        ""
      ]
    },
    {
      "cell_type": "code",
      "metadata": {
        "id": "t3_VD9puOVlF",
        "colab_type": "code",
        "outputId": "6e8aacbe-7b2e-486f-a421-67516a38b062",
        "colab": {
          "base_uri": "https://localhost:8080/",
          "height": 134
        }
      },
      "source": [
        "batch_size = 128\n",
        "num_classes = 10\n",
        "epochs = 12\n",
        "\n",
        "(train_images,train_labels),(test_images,test_labels) = fashion_mnist.load_data()\n",
        "print(train_images.shape)\n",
        "print(train_labels.shape)\n",
        "print(test_images.shape)\n",
        "print(test_labels.shape)\n",
        "\n",
        "img_rows, img_cols = 28, 28\n",
        "train_images = train_images.reshape(len(train_images),img_rows,img_cols,1)\n",
        "test_images = test_images.reshape(len(test_images),img_rows,img_cols,1)\n",
        "input_shape = (img_rows, img_cols, 1)\n",
        "train_images = train_images.astype('float32')\n",
        "test_images = test_images.astype('float32')\n",
        "train_images /= 255\n",
        "test_images /= 255\n",
        "\n",
        "print('x_train shape:', train_images.shape)\n",
        "print(train_images.shape[0], 'train samples')\n",
        "print(test_images.shape[0], 'test samples')\n",
        "\n",
        "train_labels = to_categorical(train_labels,num_classes)\n",
        "test_labels = to_categorical(test_labels,num_classes)"
      ],
      "execution_count": 88,
      "outputs": [
        {
          "output_type": "stream",
          "text": [
            "(60000, 28, 28)\n",
            "(60000,)\n",
            "(10000, 28, 28)\n",
            "(10000,)\n",
            "x_train shape: (60000, 28, 28, 1)\n",
            "60000 train samples\n",
            "10000 test samples\n"
          ],
          "name": "stdout"
        }
      ]
    },
    {
      "cell_type": "code",
      "metadata": {
        "id": "jGpTpZfeywP-",
        "colab_type": "code",
        "outputId": "fecb4a35-34bc-4bad-9433-0669739ce7c3",
        "colab": {
          "base_uri": "https://localhost:8080/",
          "height": 490
        }
      },
      "source": [
        "\n",
        "from kerastuner.engine.hyperparameters import HyperParameters\n",
        "def build_model(hp):\n",
        "  model = Sequential()\n",
        "  model.add(Conv2D(filters=hp.Int('filter1',min_value=32,max_value=512,step=16),\n",
        "                   kernel_size=hp.Choice('kernel_size1', values = [3,5]),\n",
        "                   activation='relu',\n",
        "                   input_shape=input_shape))\n",
        "  model.add(Conv2D(filters=hp.Int('filter2',min_value=32,max_value=512,step=32),\n",
        "                   kernel_size=hp.Choice('kernel_size2', values = [3,5]),\n",
        "                   activation='relu'))\n",
        "  #model.add(MaxPooling2D(pool_size=(2, 2)))\n",
        "  #model.add(Dropout(0.25))\n",
        "  model.add(Flatten())\n",
        "  model.add(Dense(units=hp.Int('dense_1_units', min_value=32, max_value=128, step=16),activation='relu'))\n",
        "  #model.add(Dropout(0.5))\n",
        "  model.add(Dense(num_classes, activation='softmax'))\n",
        "\n",
        "  model.compile(optimizer = keras.optimizers.Adam(hp.Choice('learning_rate', values=[1e-2, 1e-3])),loss='categorical_crossentropy',metrics=['accuracy'])\n",
        "  return model\n",
        "\n",
        "tuner = RandomSearch(build_model,objective='val_accuracy',max_trials=5,executions_per_trial=1,directory='my_dir1',project_name='abcd')\n",
        "tuner.search(train_images, train_labels,epochs=3,validation_split=0.1)\n",
        "model=tuner.get_best_models(num_models=1)[0]\n",
        "model.summary()\n"
      ],
      "execution_count": 89,
      "outputs": [
        {
          "output_type": "stream",
          "text": [
            "INFO:tensorflow:Reloading Oracle from existing project my_dir1/abcd/oracle.json\n",
            "WARNING:tensorflow:Unresolved object in checkpoint: (root).optimizer.iter\n",
            "WARNING:tensorflow:Unresolved object in checkpoint: (root).optimizer.beta_1\n",
            "WARNING:tensorflow:Unresolved object in checkpoint: (root).optimizer.beta_2\n",
            "WARNING:tensorflow:Unresolved object in checkpoint: (root).optimizer.decay\n",
            "WARNING:tensorflow:Unresolved object in checkpoint: (root).optimizer.learning_rate\n",
            "WARNING:tensorflow:A checkpoint was restored (e.g. tf.train.Checkpoint.restore or tf.keras.Model.load_weights) but not all checkpointed values were used. See above for specific issues. Use expect_partial() on the load status object, e.g. tf.train.Checkpoint.restore(...).expect_partial(), to silence these warnings, or use assert_consumed() to make the check explicit. See https://www.tensorflow.org/guide/checkpoint#loading_mechanics for details.\n",
            "INFO:tensorflow:Reloading Tuner from my_dir1/abcd/tuner0.json\n",
            "INFO:tensorflow:Oracle triggered exit\n",
            "Model: \"sequential\"\n",
            "_________________________________________________________________\n",
            "Layer (type)                 Output Shape              Param #   \n",
            "=================================================================\n",
            "conv2d (Conv2D)              (None, 26, 26, 256)       2560      \n",
            "_________________________________________________________________\n",
            "conv2d_1 (Conv2D)            (None, 22, 22, 480)       3072480   \n",
            "_________________________________________________________________\n",
            "flatten (Flatten)            (None, 232320)            0         \n",
            "_________________________________________________________________\n",
            "dense (Dense)                (None, 96)                22302816  \n",
            "_________________________________________________________________\n",
            "dense_1 (Dense)              (None, 10)                970       \n",
            "=================================================================\n",
            "Total params: 25,378,826\n",
            "Trainable params: 25,378,826\n",
            "Non-trainable params: 0\n",
            "_________________________________________________________________\n"
          ],
          "name": "stdout"
        }
      ]
    },
    {
      "cell_type": "code",
      "metadata": {
        "id": "bzEObYiL5MSp",
        "colab_type": "code",
        "colab": {
          "base_uri": "https://localhost:8080/",
          "height": 269
        },
        "outputId": "5ef094dd-95c4-4728-d100-3a3f15b58965"
      },
      "source": [
        "model.fit(train_images, train_labels, epochs=10, validation_split=0.1, initial_epoch=3)"
      ],
      "execution_count": 90,
      "outputs": [
        {
          "output_type": "stream",
          "text": [
            "Epoch 4/10\n",
            "1688/1688 [==============================] - 35s 21ms/step - loss: 0.1228 - accuracy: 0.9546 - val_loss: 0.2432 - val_accuracy: 0.9138\n",
            "Epoch 5/10\n",
            "1688/1688 [==============================] - 35s 21ms/step - loss: 0.0800 - accuracy: 0.9708 - val_loss: 0.2987 - val_accuracy: 0.9172\n",
            "Epoch 6/10\n",
            "1688/1688 [==============================] - 35s 21ms/step - loss: 0.0594 - accuracy: 0.9784 - val_loss: 0.3257 - val_accuracy: 0.9185\n",
            "Epoch 7/10\n",
            "1688/1688 [==============================] - 35s 21ms/step - loss: 0.0410 - accuracy: 0.9854 - val_loss: 0.3688 - val_accuracy: 0.9175\n",
            "Epoch 8/10\n",
            "1688/1688 [==============================] - 35s 21ms/step - loss: 0.0324 - accuracy: 0.9891 - val_loss: 0.4440 - val_accuracy: 0.9163\n",
            "Epoch 9/10\n",
            "1688/1688 [==============================] - 35s 21ms/step - loss: 0.0299 - accuracy: 0.9892 - val_loss: 0.4933 - val_accuracy: 0.9135\n",
            "Epoch 10/10\n",
            "1688/1688 [==============================] - 35s 20ms/step - loss: 0.0227 - accuracy: 0.9921 - val_loss: 0.6167 - val_accuracy: 0.9115\n"
          ],
          "name": "stdout"
        },
        {
          "output_type": "execute_result",
          "data": {
            "text/plain": [
              "<tensorflow.python.keras.callbacks.History at 0x7fb4d00aed30>"
            ]
          },
          "metadata": {
            "tags": []
          },
          "execution_count": 90
        }
      ]
    }
  ]
}