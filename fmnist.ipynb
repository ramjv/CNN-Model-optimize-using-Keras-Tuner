{
  "nbformat": 4,
  "nbformat_minor": 0,
  "metadata": {
    "colab": {
      "name": "Untitled",
      "provenance": [],
      "collapsed_sections": [],
      "authorship_tag": "ABX9TyMDDW2hLonSf5LR/5UXqCyl",
      "include_colab_link": true
    },
    "kernelspec": {
      "name": "python3",
      "display_name": "Python 3"
    },
    "accelerator": "GPU"
  },
  "cells": [
    {
      "cell_type": "markdown",
      "metadata": {
        "id": "view-in-github",
        "colab_type": "text"
      },
      "source": [
        "<a href=\"https://colab.research.google.com/github/ramjv/CNN-Model-optimize-using-Keras-Tuner/blob/master/fmnist.ipynb\" target=\"_parent\"><img src=\"https://colab.research.google.com/assets/colab-badge.svg\" alt=\"Open In Colab\"/></a>"
      ]
    },
    {
      "cell_type": "code",
      "metadata": {
        "id": "BZJJfTGB6_Du",
        "colab_type": "code",
        "colab": {}
      },
      "source": [
        "import numpy as np\n",
        "import tensorflow as tf\n",
        "from tensorflow import keras\n",
        "from tensorflow.keras.datasets import fashion_mnist\n",
        "from tensorflow.keras.models import Sequential\n",
        "from tensorflow.keras.layers import Dense,Dropout,Conv2D,Flatten,MaxPooling2D\n",
        "from tensorflow.keras.utils import to_categorical"
      ],
      "execution_count": 0,
      "outputs": []
    },
    {
      "cell_type": "code",
      "metadata": {
        "id": "csL0WvtkNbxN",
        "colab_type": "code",
        "outputId": "a3aa7938-e74c-4c27-e2b9-6812f82bbb61",
        "colab": {
          "base_uri": "https://localhost:8080/",
          "height": 50
        }
      },
      "source": [
        "print(keras.__version__)\n",
        "print(tf.__version__)"
      ],
      "execution_count": 6,
      "outputs": [
        {
          "output_type": "stream",
          "text": [
            "2.3.0-tf\n",
            "2.2.0-rc2\n"
          ],
          "name": "stdout"
        }
      ]
    },
    {
      "cell_type": "markdown",
      "metadata": {
        "id": "0_1-9vASBlY1",
        "colab_type": "text"
      },
      "source": [
        ""
      ]
    },
    {
      "cell_type": "code",
      "metadata": {
        "id": "t3_VD9puOVlF",
        "colab_type": "code",
        "outputId": "450fa1e8-6587-486a-ce21-21e360aa6943",
        "colab": {
          "base_uri": "https://localhost:8080/",
          "height": 134
        }
      },
      "source": [
        "batch_size = 128\n",
        "num_classes = 10\n",
        "epochs = 12\n",
        "\n",
        "(train_images,train_labels),(test_images,test_labels) = fashion_mnist.load_data()\n",
        "print(train_images.shape)\n",
        "print(train_labels.shape)\n",
        "print(test_images.shape)\n",
        "print(test_labels.shape)\n",
        "\n",
        "img_rows, img_cols = 28, 28\n",
        "train_images = train_images.reshape(len(train_images),img_rows,img_cols,1)\n",
        "test_images = test_images.reshape(len(test_images),img_rows,img_cols,1)\n",
        "input_shape = (img_rows, img_cols, 1)\n",
        "train_images = train_images.astype('float32')\n",
        "test_images = test_images.astype('float32')\n",
        "train_images /= 255\n",
        "test_images /= 255\n",
        "\n",
        "print('x_train shape:', train_images.shape)\n",
        "print(train_images.shape[0], 'train samples')\n",
        "print(test_images.shape[0], 'test samples')\n",
        "\n",
        "train_labels = to_categorical(train_labels,num_classes)\n",
        "test_labels = to_categorical(test_labels,num_classes)"
      ],
      "execution_count": 7,
      "outputs": [
        {
          "output_type": "stream",
          "text": [
            "(60000, 28, 28)\n",
            "(60000,)\n",
            "(10000, 28, 28)\n",
            "(10000,)\n",
            "x_train shape: (60000, 28, 28, 1)\n",
            "60000 train samples\n",
            "10000 test samples\n"
          ],
          "name": "stdout"
        }
      ]
    },
    {
      "cell_type": "code",
      "metadata": {
        "id": "jGpTpZfeywP-",
        "colab_type": "code",
        "outputId": "66bc32de-9cd4-48d5-94d4-7576fb48a293",
        "colab": {
          "base_uri": "https://localhost:8080/",
          "height": 454
        }
      },
      "source": [
        "model = Sequential()\n",
        "model.add(Conv2D(32,kernel_size=(3, 3),activation='relu',input_shape=input_shape))\n",
        "model.add(Conv2D(64,kernel_size=(3 ,3),activation='relu'))\n",
        "model.add(MaxPooling2D(pool_size=(2, 2)))\n",
        "model.add(Dropout(0.25))\n",
        "model.add(Flatten())\n",
        "model.add(Dense(128, activation='relu'))\n",
        "model.add(Dropout(0.5))\n",
        "model.add(Dense(num_classes, activation='softmax'))\n",
        "\n",
        "model.compile(loss=keras.losses.categorical_crossentropy,\n",
        "              optimizer=keras.optimizers.Adadelta(),\n",
        "              metrics=['accuracy'])\n",
        "\n",
        "model.fit(train_images, train_labels,\n",
        "          batch_size=batch_size,\n",
        "          epochs=epochs,\n",
        "          verbose=1,\n",
        "          validation_data=(test_images, test_labels))\n",
        "score = model.evaluate(test_images, test_labels, verbose=0)\n",
        "print('Test loss:', score[0])\n",
        "print('Test accuracy:', score[1])"
      ],
      "execution_count": 8,
      "outputs": [
        {
          "output_type": "stream",
          "text": [
            "Epoch 1/12\n",
            "469/469 [==============================] - 5s 11ms/step - loss: 2.2779 - accuracy: 0.1550 - val_loss: 2.2345 - val_accuracy: 0.2862\n",
            "Epoch 2/12\n",
            "469/469 [==============================] - 5s 10ms/step - loss: 2.2050 - accuracy: 0.2700 - val_loss: 2.1457 - val_accuracy: 0.5348\n",
            "Epoch 3/12\n",
            "469/469 [==============================] - 5s 10ms/step - loss: 2.1110 - accuracy: 0.3704 - val_loss: 2.0297 - val_accuracy: 0.5773\n",
            "Epoch 4/12\n",
            "469/469 [==============================] - 5s 10ms/step - loss: 1.9882 - accuracy: 0.4320 - val_loss: 1.8723 - val_accuracy: 0.5919\n",
            "Epoch 5/12\n",
            "469/469 [==============================] - 5s 10ms/step - loss: 1.8272 - accuracy: 0.4738 - val_loss: 1.6776 - val_accuracy: 0.5983\n",
            "Epoch 6/12\n",
            "469/469 [==============================] - 5s 10ms/step - loss: 1.6580 - accuracy: 0.4967 - val_loss: 1.4841 - val_accuracy: 0.6012\n",
            "Epoch 7/12\n",
            "469/469 [==============================] - 5s 10ms/step - loss: 1.5097 - accuracy: 0.5146 - val_loss: 1.3274 - val_accuracy: 0.6107\n",
            "Epoch 8/12\n",
            "469/469 [==============================] - 5s 10ms/step - loss: 1.3954 - accuracy: 0.5289 - val_loss: 1.2141 - val_accuracy: 0.6210\n",
            "Epoch 9/12\n",
            "469/469 [==============================] - 5s 10ms/step - loss: 1.3167 - accuracy: 0.5440 - val_loss: 1.1356 - val_accuracy: 0.6297\n",
            "Epoch 10/12\n",
            "469/469 [==============================] - 5s 10ms/step - loss: 1.2570 - accuracy: 0.5562 - val_loss: 1.0787 - val_accuracy: 0.6345\n",
            "Epoch 11/12\n",
            "469/469 [==============================] - 5s 10ms/step - loss: 1.2092 - accuracy: 0.5713 - val_loss: 1.0346 - val_accuracy: 0.6423\n",
            "Epoch 12/12\n",
            "469/469 [==============================] - 5s 10ms/step - loss: 1.1739 - accuracy: 0.5793 - val_loss: 0.9994 - val_accuracy: 0.6495\n",
            "Test loss: 1.0003541707992554\n",
            "Test accuracy: 0.6495000123977661\n"
          ],
          "name": "stdout"
        }
      ]
    }
  ]
}